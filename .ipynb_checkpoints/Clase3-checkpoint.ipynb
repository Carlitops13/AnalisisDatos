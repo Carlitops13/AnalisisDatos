{
 "cells": [
  {
   "cell_type": "code",
   "execution_count": null,
   "id": "a02bbbae-e5c7-4ef7-a3db-65aa4cf4ec68",
   "metadata": {},
   "outputs": [],
   "source": [
    "import pandas as pd\n",
    "import sqlite3"
   ]
  },
  {
   "cell_type": "code",
   "execution_count": 5,
   "id": "5f260891-6209-401e-825a-b92919c56b32",
   "metadata": {},
   "outputs": [],
   "source": [
    "data={\n",
    "    'apples':[3,2,0,1],\n",
    "    'oranges':[0,3,7,2],\n",
    "}\n",
    "    "
   ]
  },
  {
   "cell_type": "code",
   "execution_count": 6,
   "id": "98637368-5013-47d7-ac47-94e9a8ca0761",
   "metadata": {},
   "outputs": [
    {
     "data": {
      "text/plain": [
       "{'apples': [3, 2, 0, 1], 'oranges': [0, 3, 7, 2]}"
      ]
     },
     "execution_count": 6,
     "metadata": {},
     "output_type": "execute_result"
    }
   ],
   "source": [
    "data"
   ]
  },
  {
   "cell_type": "code",
   "execution_count": 7,
   "id": "180bca54-7cab-434f-a051-e6700d3d914b",
   "metadata": {},
   "outputs": [],
   "source": [
    "index=['Carlos','Ana','Juan','Gaby']"
   ]
  },
  {
   "cell_type": "code",
   "execution_count": 8,
   "id": "cda9cd20-0402-40cf-92ba-6a4df3905287",
   "metadata": {},
   "outputs": [],
   "source": [
    "df=pd.DataFrame(data,index=index)"
   ]
  },
  {
   "cell_type": "code",
   "execution_count": 9,
   "id": "9a96ec56-b34c-4c97-bbd7-cc2292b7015a",
   "metadata": {},
   "outputs": [
    {
     "data": {
      "text/html": [
       "<div>\n",
       "<style scoped>\n",
       "    .dataframe tbody tr th:only-of-type {\n",
       "        vertical-align: middle;\n",
       "    }\n",
       "\n",
       "    .dataframe tbody tr th {\n",
       "        vertical-align: top;\n",
       "    }\n",
       "\n",
       "    .dataframe thead th {\n",
       "        text-align: right;\n",
       "    }\n",
       "</style>\n",
       "<table border=\"1\" class=\"dataframe\">\n",
       "  <thead>\n",
       "    <tr style=\"text-align: right;\">\n",
       "      <th></th>\n",
       "      <th>apples</th>\n",
       "      <th>oranges</th>\n",
       "    </tr>\n",
       "  </thead>\n",
       "  <tbody>\n",
       "    <tr>\n",
       "      <th>Carlos</th>\n",
       "      <td>3</td>\n",
       "      <td>0</td>\n",
       "    </tr>\n",
       "    <tr>\n",
       "      <th>Ana</th>\n",
       "      <td>2</td>\n",
       "      <td>3</td>\n",
       "    </tr>\n",
       "    <tr>\n",
       "      <th>Juan</th>\n",
       "      <td>0</td>\n",
       "      <td>7</td>\n",
       "    </tr>\n",
       "    <tr>\n",
       "      <th>Gaby</th>\n",
       "      <td>1</td>\n",
       "      <td>2</td>\n",
       "    </tr>\n",
       "  </tbody>\n",
       "</table>\n",
       "</div>"
      ],
      "text/plain": [
       "        apples  oranges\n",
       "Carlos       3        0\n",
       "Ana          2        3\n",
       "Juan         0        7\n",
       "Gaby         1        2"
      ]
     },
     "execution_count": 9,
     "metadata": {},
     "output_type": "execute_result"
    }
   ],
   "source": [
    "df"
   ]
  },
  {
   "cell_type": "code",
   "execution_count": 36,
   "id": "2252979f-4b2d-4532-b98a-f5c2f9d845e1",
   "metadata": {},
   "outputs": [],
   "source": [
    "#Generar un DataFrame que corresponda a cinco calificaciones de usted y dos de sus compañeros."
   ]
  },
  {
   "cell_type": "code",
   "execution_count": 10,
   "id": "39225b11-e20c-426a-ae56-ad23c13c0ee8",
   "metadata": {},
   "outputs": [],
   "source": [
    "notas={\n",
    "    'GPS':[10,10,9],\n",
    "    'POO':[9,7,8],\n",
    "    'ADD':[8,9,7],\n",
    "    'DDI':[7,8,9],\n",
    "    'BDD':[10,10,10],\n",
    "}"
   ]
  },
  {
   "cell_type": "code",
   "execution_count": 11,
   "id": "1c1652d0-1bdd-475e-b3ee-e009df08afad",
   "metadata": {},
   "outputs": [],
   "source": [
    "ide=['Carlos Puente','Lubswer Catagña','Milka Borja']"
   ]
  },
  {
   "cell_type": "code",
   "execution_count": 12,
   "id": "2a875208-3369-48c0-b505-334a1cc7d59b",
   "metadata": {},
   "outputs": [],
   "source": [
    "dff=pd.DataFrame(notas,index=ide)"
   ]
  },
  {
   "cell_type": "code",
   "execution_count": 13,
   "id": "2bdb665e-a3c1-49f1-8e37-a30677b72bae",
   "metadata": {},
   "outputs": [
    {
     "data": {
      "text/html": [
       "<div>\n",
       "<style scoped>\n",
       "    .dataframe tbody tr th:only-of-type {\n",
       "        vertical-align: middle;\n",
       "    }\n",
       "\n",
       "    .dataframe tbody tr th {\n",
       "        vertical-align: top;\n",
       "    }\n",
       "\n",
       "    .dataframe thead th {\n",
       "        text-align: right;\n",
       "    }\n",
       "</style>\n",
       "<table border=\"1\" class=\"dataframe\">\n",
       "  <thead>\n",
       "    <tr style=\"text-align: right;\">\n",
       "      <th></th>\n",
       "      <th>GPS</th>\n",
       "      <th>POO</th>\n",
       "      <th>ADD</th>\n",
       "      <th>DDI</th>\n",
       "      <th>BDD</th>\n",
       "    </tr>\n",
       "  </thead>\n",
       "  <tbody>\n",
       "    <tr>\n",
       "      <th>Carlos Puente</th>\n",
       "      <td>10</td>\n",
       "      <td>9</td>\n",
       "      <td>8</td>\n",
       "      <td>7</td>\n",
       "      <td>10</td>\n",
       "    </tr>\n",
       "    <tr>\n",
       "      <th>Lubswer Catagña</th>\n",
       "      <td>10</td>\n",
       "      <td>7</td>\n",
       "      <td>9</td>\n",
       "      <td>8</td>\n",
       "      <td>10</td>\n",
       "    </tr>\n",
       "    <tr>\n",
       "      <th>Milka Borja</th>\n",
       "      <td>9</td>\n",
       "      <td>8</td>\n",
       "      <td>7</td>\n",
       "      <td>9</td>\n",
       "      <td>10</td>\n",
       "    </tr>\n",
       "  </tbody>\n",
       "</table>\n",
       "</div>"
      ],
      "text/plain": [
       "                 GPS  POO  ADD  DDI  BDD\n",
       "Carlos Puente     10    9    8    7   10\n",
       "Lubswer Catagña   10    7    9    8   10\n",
       "Milka Borja        9    8    7    9   10"
      ]
     },
     "execution_count": 13,
     "metadata": {},
     "output_type": "execute_result"
    }
   ],
   "source": [
    "dff"
   ]
  },
  {
   "cell_type": "code",
   "execution_count": 14,
   "id": "38039276-6783-424e-a49a-db4154339469",
   "metadata": {},
   "outputs": [
    {
     "data": {
      "text/plain": [
       "GPS     9\n",
       "POO     8\n",
       "ADD     7\n",
       "DDI     9\n",
       "BDD    10\n",
       "Name: Milka Borja, dtype: int64"
      ]
     },
     "execution_count": 14,
     "metadata": {},
     "output_type": "execute_result"
    }
   ],
   "source": [
    "dff.loc['Milka Borja']"
   ]
  },
  {
   "cell_type": "code",
   "execution_count": 16,
   "id": "e1f6c379-3b33-4ff8-9d60-8e652b76a758",
   "metadata": {},
   "outputs": [],
   "source": [
    "dff.to_csv(\"Notas.csv\")"
   ]
  },
  {
   "cell_type": "code",
   "execution_count": 17,
   "id": "2d33e458-8aa2-46d7-b332-afa8fdbde479",
   "metadata": {},
   "outputs": [],
   "source": [
    "dff.to_json('listado.json')"
   ]
  },
  {
   "cell_type": "code",
   "execution_count": 18,
   "id": "a3af7442-b7a2-476b-98ca-22e5610d01b1",
   "metadata": {},
   "outputs": [
    {
     "data": {
      "text/html": [
       "<div>\n",
       "<style scoped>\n",
       "    .dataframe tbody tr th:only-of-type {\n",
       "        vertical-align: middle;\n",
       "    }\n",
       "\n",
       "    .dataframe tbody tr th {\n",
       "        vertical-align: top;\n",
       "    }\n",
       "\n",
       "    .dataframe thead th {\n",
       "        text-align: right;\n",
       "    }\n",
       "</style>\n",
       "<table border=\"1\" class=\"dataframe\">\n",
       "  <thead>\n",
       "    <tr style=\"text-align: right;\">\n",
       "      <th></th>\n",
       "      <th>GPS</th>\n",
       "      <th>POO</th>\n",
       "      <th>ADD</th>\n",
       "      <th>DDI</th>\n",
       "      <th>BDD</th>\n",
       "    </tr>\n",
       "  </thead>\n",
       "  <tbody>\n",
       "    <tr>\n",
       "      <th>Carlos Puente</th>\n",
       "      <td>10</td>\n",
       "      <td>9</td>\n",
       "      <td>8</td>\n",
       "      <td>7</td>\n",
       "      <td>10</td>\n",
       "    </tr>\n",
       "    <tr>\n",
       "      <th>Lubswer Catagña</th>\n",
       "      <td>10</td>\n",
       "      <td>7</td>\n",
       "      <td>9</td>\n",
       "      <td>8</td>\n",
       "      <td>10</td>\n",
       "    </tr>\n",
       "    <tr>\n",
       "      <th>Milka Borja</th>\n",
       "      <td>9</td>\n",
       "      <td>8</td>\n",
       "      <td>7</td>\n",
       "      <td>9</td>\n",
       "      <td>10</td>\n",
       "    </tr>\n",
       "  </tbody>\n",
       "</table>\n",
       "</div>"
      ],
      "text/plain": [
       "                 GPS  POO  ADD  DDI  BDD\n",
       "Carlos Puente     10    9    8    7   10\n",
       "Lubswer Catagña   10    7    9    8   10\n",
       "Milka Borja        9    8    7    9   10"
      ]
     },
     "execution_count": 18,
     "metadata": {},
     "output_type": "execute_result"
    }
   ],
   "source": [
    "dff"
   ]
  },
  {
   "cell_type": "code",
   "execution_count": 19,
   "id": "9dd962f8",
   "metadata": {},
   "outputs": [
    {
     "ename": "NameError",
     "evalue": "name 'sqlite3' is not defined",
     "output_type": "error",
     "traceback": [
      "\u001b[31m---------------------------------------------------------------------------\u001b[39m",
      "\u001b[31mNameError\u001b[39m                                 Traceback (most recent call last)",
      "\u001b[36mCell\u001b[39m\u001b[36m \u001b[39m\u001b[32mIn[19]\u001b[39m\u001b[32m, line 1\u001b[39m\n\u001b[32m----> \u001b[39m\u001b[32m1\u001b[39m con = \u001b[43msqlite3\u001b[49m.connect(\u001b[33m\"\u001b[39m\u001b[33mdatabase.db\u001b[39m\u001b[33m\"\u001b[39m)\n",
      "\u001b[31mNameError\u001b[39m: name 'sqlite3' is not defined"
     ]
    }
   ],
   "source": [
    "con = sqlite3.connect(\"database.db\")\n"
   ]
  }
 ],
 "metadata": {
  "kernelspec": {
   "display_name": "Python 3",
   "language": "python",
   "name": "python3"
  },
  "language_info": {
   "codemirror_mode": {
    "name": "ipython",
    "version": 3
   },
   "file_extension": ".py",
   "mimetype": "text/x-python",
   "name": "python",
   "nbconvert_exporter": "python",
   "pygments_lexer": "ipython3",
   "version": "3.13.7"
  }
 },
 "nbformat": 4,
 "nbformat_minor": 5
}
