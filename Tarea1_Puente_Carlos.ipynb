{
 "cells": [
  {
   "cell_type": "code",
   "execution_count": 3,
   "id": "2e0356e8",
   "metadata": {},
   "outputs": [
    {
     "name": "stdout",
     "output_type": "stream",
     "text": [
      "Proceso completado. Se encontraron 4406 palabras únicas en 'Libro.txt'.\n"
     ]
    }
   ],
   "source": [
    "import string\n",
    "nombre_archivo_entrada = \"Libro.txt\"\n",
    "conteo_palabras = {}\n",
    "\n",
    "try:\n",
    "    with open(nombre_archivo_entrada, \"r\", encoding=\"utf-8\") as archivo:\n",
    "        texto = archivo.read()\n",
    "        texto = texto.lower()\n",
    "\n",
    "        lista_texto_limpio = []\n",
    "        for caracter in texto:\n",
    "            if caracter not in string.punctuation:\n",
    "                lista_texto_limpio.append(caracter)\n",
    "\n",
    "        texto_limpio = \"\".join(lista_texto_limpio)\n",
    "        palabras = texto_limpio.split()\n",
    "\n",
    "        for palabra in palabras:\n",
    "            if palabra in conteo_palabras:\n",
    "                conteo_palabras[palabra][0] += 1\n",
    "            else:\n",
    "                conteo_palabras[palabra] = [1, len(palabra)]\n",
    "\n",
    "    print(f\"Proceso completado. Se encontraron {len(conteo_palabras)} palabras únicas en '{nombre_archivo_entrada}'.\")\n",
    "\n",
    "except FileNotFoundError:\n",
    "    print(f\"¡Error! No se pudo encontrar el archivo '{nombre_archivo_entrada}'.\")\n",
    "    print(\"Por favor, verifica que el nombre sea correcto y que esté en la misma carpeta que este notebook.\")"
   ]
  },
  {
   "cell_type": "code",
   "execution_count": 4,
   "id": "3d25cac8",
   "metadata": {},
   "outputs": [
    {
     "name": "stdout",
     "output_type": "stream",
     "text": [
      "Resultados guardados exitosamente en el archivo 'resultados_conteo.txt'\n"
     ]
    }
   ],
   "source": [
    "nombre_archivo_salida = \"resultados_conteo.txt\"\n",
    "\n",
    "with open(nombre_archivo_salida, \"w\", encoding=\"utf-8\") as archivo:\n",
    "    archivo.write(f\"{'Palabra':<25}{'Frecuencia':<15}{'Longitud':<10}\\n\")\n",
    "    archivo.write(\"=\" * 50 + \"\\n\")\n",
    "\n",
    "    for palabra, datos in sorted(conteo_palabras.items()):\n",
    "        conteo = datos[0]\n",
    "        longitud = datos[1]\n",
    "        archivo.write(f\"{palabra:<25}{conteo:<15}{longitud:<10}\\n\")\n",
    "\n",
    "print(f\"Resultados guardados exitosamente en el archivo '{nombre_archivo_salida}'\")"
   ]
  }
 ],
 "metadata": {
  "kernelspec": {
   "display_name": "Python 3",
   "language": "python",
   "name": "python3"
  },
  "language_info": {
   "codemirror_mode": {
    "name": "ipython",
    "version": 3
   },
   "file_extension": ".py",
   "mimetype": "text/x-python",
   "name": "python",
   "nbconvert_exporter": "python",
   "pygments_lexer": "ipython3",
   "version": "3.13.7"
  }
 },
 "nbformat": 4,
 "nbformat_minor": 5
}
