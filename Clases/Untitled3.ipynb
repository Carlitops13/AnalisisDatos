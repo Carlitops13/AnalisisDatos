{
 "cells": [
  {
   "cell_type": "markdown",
   "id": "01a83fd1-2c56-44eb-9bc8-5806687793ef",
   "metadata": {},
   "source": [
    "### Instalación:\n",
    " pip install numpy"
   ]
  },
  {
   "cell_type": "code",
   "execution_count": 3,
   "id": "fcc67751-b706-4b29-91df-6b00e71f70f8",
   "metadata": {},
   "outputs": [
    {
     "name": "stdout",
     "output_type": "stream",
     "text": [
      "Requirement already satisfied: numpy in c:\\users\\usuario\\appdata\\local\\programs\\python\\python314\\lib\\site-packages (2.3.3)\n",
      "Note: you may need to restart the kernel to use updated packages.\n"
     ]
    }
   ],
   "source": [
    "pip install numpy"
   ]
  },
  {
   "cell_type": "markdown",
   "id": "1d1d31f4-ac3b-4256-a3e9-0af88dee257f",
   "metadata": {},
   "source": [
    "### importar libreria\n",
    " import numpy as np\n",
    "\n",
    " el as np nos dice como llmaremos a la libreria cuando la requira\n"
   ]
  },
  {
   "cell_type": "code",
   "execution_count": 4,
   "id": "7f22b32c-a7df-4a29-8376-1226a80ff1fe",
   "metadata": {},
   "outputs": [],
   "source": [
    "import numpy as np"
   ]
  },
  {
   "cell_type": "markdown",
   "id": "d25acd1d-35ee-4651-b193-f532922a2f52",
   "metadata": {},
   "source": [
    "### Podemos practicar transformaciones de arrays "
   ]
  },
  {
   "cell_type": "code",
   "execution_count": 5,
   "id": "39190f7f-9341-4910-86c0-2970ff9d0d44",
   "metadata": {},
   "outputs": [
    {
     "name": "stdout",
     "output_type": "stream",
     "text": [
      "Transforme la lista 1 a un array  [1 2 3] \n",
      "Tenemos una lista dos que sigue siendo una lista  [1, 2, 3]\n"
     ]
    }
   ],
   "source": [
    "lista1 = np.array([1,2,3])\n",
    "lista2 = [1,2,3]\n",
    "print(\"Transforme la lista 1 a un array \", lista1, \"\\nTenemos una lista dos que sigue siendo una lista \", lista2)"
   ]
  },
  {
   "cell_type": "markdown",
   "id": "4e404025-58ee-409b-bd97-9f469060b02a",
   "metadata": {},
   "source": [
    "### LISTAS A TUPLAS\n",
    "Dejamos de usar listas y usamos tuplas ya que estas nos permiten tener mayor\n",
    "mutabilidad(No se pueden cambiar una vez creadas) y velocidad.\n",
    "Descpues de usar np.array() son los mismo a la final. La elección es \n",
    "solo una cuestión de si quieres usar una fuente de datos mutable o inmutable \n",
    "antes de la conversión. Llamado ndarray."
   ]
  },
  {
   "cell_type": "code",
   "execution_count": 6,
   "id": "abcc7287-3e9f-4b5e-810f-b82913b64cdc",
   "metadata": {},
   "outputs": [
    {
     "name": "stdout",
     "output_type": "stream",
     "text": [
      "Imprimimos una matriz de listas [[1, 2, 3], [4, 5, 6], [7, 8, 9]]\n"
     ]
    }
   ],
   "source": [
    "Matriz1 = [[1,2,3],[4,5,6],[7,8,9]]\n",
    "print(\"Imprimimos una matriz de listas\", Matriz1)"
   ]
  },
  {
   "cell_type": "code",
   "execution_count": 7,
   "id": "da6e1bda-02c2-41ae-8ceb-bcbd14dc3900",
   "metadata": {},
   "outputs": [
    {
     "name": "stdout",
     "output_type": "stream",
     "text": [
      "Imprimimos una Matriz de tuplas [(1, 2, 3), (4, 5, 6), (7, 8, 9)]\n"
     ]
    }
   ],
   "source": [
    "Matriz2 = [(1,2,3),(4,5,6),(7,8,9)]\n",
    "print(\"Imprimimos una Matriz de tuplas\", Matriz2)"
   ]
  },
  {
   "cell_type": "code",
   "execution_count": 8,
   "id": "08877c1a-888d-46f1-a720-307cf620bef0",
   "metadata": {},
   "outputs": [
    {
     "name": "stdout",
     "output_type": "stream",
     "text": [
      "Transformamos la matriz 1 en un array \n",
      " [[1 2 3]\n",
      " [4 5 6]\n",
      " [7 8 9]]\n"
     ]
    }
   ],
   "source": [
    "Matriz1_array = np.array([[1,2,3],[4,5,6],[7,8,9]])\n",
    "print(\"Transformamos la matriz 1 en un array \\n\", Matriz1_array)"
   ]
  },
  {
   "cell_type": "code",
   "execution_count": 9,
   "id": "4d0ac222-da01-413e-8a55-b4ce2a456116",
   "metadata": {},
   "outputs": [
    {
     "name": "stdout",
     "output_type": "stream",
     "text": [
      "Transformamos la matriz 2 en un array \n",
      " [[1 2 3]\n",
      " [4 5 6]\n",
      " [7 8 9]]\n"
     ]
    }
   ],
   "source": [
    "Matriz2_array = np.array([(1,2,3),(4,5,6),(7,8,9)])\n",
    "print(\"Transformamos la matriz 2 en un array \\n\", Matriz2_array)"
   ]
  },
  {
   "cell_type": "code",
   "execution_count": 10,
   "id": "da7c833a-f3f2-4007-9263-14a418d3b1c2",
   "metadata": {},
   "outputs": [
    {
     "name": "stdout",
     "output_type": "stream",
     "text": [
      "Por favor crear un arreglo de 3 dimensiones\n",
      " [[[ 1  2  3]\n",
      "  [ 4  5  6]\n",
      "  [ 7  8  9]]\n",
      "\n",
      " [[10 11 12]\n",
      "  [13 14 15]\n",
      "  [16 17 18]]]\n"
     ]
    }
   ],
   "source": [
    "# Creamos un array 3D: 2 \"capas\" o matrices, cada una de 3x3.\n",
    "array_3d = np.array([\n",
    "    # Capa 1 (Matriz 1)\n",
    "    [[1, 2, 3],\n",
    "     [4, 5, 6],\n",
    "     [7, 8, 9]],\n",
    "    \n",
    "    # Capa 2 (Matriz 2)\n",
    "    [[10, 11, 12],\n",
    "     [13, 14, 15],\n",
    "     [16, 17, 18]]\n",
    "])\n",
    "print(\"Por favor crear un arreglo de 3 dimensiones\\n\", array_3d)"
   ]
  },
  {
   "cell_type": "markdown",
   "id": "e2165f8a-17ef-417e-a8b7-96b51ae00f97",
   "metadata": {},
   "source": [
    "### 1. Enfoque de Python Nativo (Variable S)\n",
    "\n"
   ]
  },
  {
   "cell_type": "markdown",
   "id": "fb88cbc8-b8ee-40c7-aaf0-1ccade041872",
   "metadata": {},
   "source": [
    "* import sys: Importa el módulo sys, que nos permite interactuar con el entorno del sistema, incluyendo funciones para obtener el tamaño de los objetos.\n",
    "\n",
    "S = range(1000): Crea un objeto range de Python con 1000 números (del 0 al 999).\n",
    "\n",
    "* sys.getsizeof(5): Esta función obtiene el tamaño en bytes de un objeto entero simple (el número 5, o cualquier entero pequeño). En Python, cada elemento de una lista es un objeto completo con su propia estructura de datos, lo que consume mucha memoria.\n",
    "\n",
    "* len(S): Multiplica el tamaño de ese objeto entero por la cantidad de elementos (1000).\n"
   ]
  },
  {
   "cell_type": "code",
   "execution_count": 11,
   "id": "6974a6bd-3c32-4f4a-971e-36039db516e6",
   "metadata": {},
   "outputs": [
    {
     "name": "stdout",
     "output_type": "stream",
     "text": [
      "28000\n"
     ]
    }
   ],
   "source": [
    "import sys\n",
    "S = range(1000)\n",
    "print(sys.getsizeof(5)*len(S))"
   ]
  },
  {
   "cell_type": "markdown",
   "id": "52e428ae-9b9b-424e-8a74-5351a35f7748",
   "metadata": {},
   "source": [
    "* El Resultado (28000 bytes): Este cálculo estima el espacio total. La cifra alta (28000 en la diapositiva) se debe a que la lista de Python almacena referencias dispersas a objetos, haciendo que la lista sea muy ineficiente en memoria."
   ]
  },
  {
   "cell_type": "markdown",
   "id": "6e25560d-cdb1-4661-aeb7-c3e5fa815f1b",
   "metadata": {},
   "source": [
    "### 2. Enfoque de NumPy (Variable D)"
   ]
  },
  {
   "cell_type": "markdown",
   "id": "42b6bf14-a455-436e-a481-20d37d3f0cf0",
   "metadata": {},
   "source": [
    "* D = np.arange(1000): Crea un array de NumPy (vector) con 1000 números. Este array está optimizado para almacenar los datos en un bloque contiguo de memoria.\n",
    "\n",
    "* D.size: Esta es una propiedad del array que devuelve la cantidad total de elementos (1000).\n",
    "\n",
    "* D.itemsize: Esta propiedad devuelve el tamaño en bytes que ocupa cada elemento de forma uniforme (por ejemplo, 8 bytes si son enteros de 64 bits)."
   ]
  },
  {
   "cell_type": "code",
   "execution_count": 12,
   "id": "ce0fd609-83e4-4a26-8f80-798eeb149ee7",
   "metadata": {},
   "outputs": [
    {
     "name": "stdout",
     "output_type": "stream",
     "text": [
      "8000\n"
     ]
    }
   ],
   "source": [
    "D = np.arange(1000) \n",
    "print(D.size*D.itemsize)"
   ]
  },
  {
   "cell_type": "markdown",
   "id": "85097712-d9d3-4107-868d-7edbfdd96676",
   "metadata": {},
   "source": [
    "* El Resultado (8000 bytes): El cálculo es el número de elementos por el tamaño de cada elemento, y el resultado es drásticamente menor (8000 en la diapositiva)."
   ]
  },
  {
   "cell_type": "markdown",
   "id": "b85a8cfe-e89e-4de6-89b2-8db30a68c20c",
   "metadata": {},
   "source": [
    "### VELOCIDAD\n",
    "* Para explicar y comparar velocidades entre algo normal de phyton y Numpy vamos a decladad un arreglo el cual será leido en un tiempo determinado "
   ]
  },
  {
   "cell_type": "code",
   "execution_count": 13,
   "id": "7c163e2c-0229-4b0f-b054-bf66378cbc62",
   "metadata": {},
   "outputs": [],
   "source": [
    "import time ##importamos la biblioteca que nnos permitira medir el tiempo\n",
    "SIZE = 1000000  #Asignamos una variable con uncierto tamaño de elementos"
   ]
  },
  {
   "cell_type": "markdown",
   "id": "79fbf5af-77f9-4ba5-8507-79feb8a1bc3d",
   "metadata": {},
   "source": [
    "* Ahora declaramos variables las cuales utilizaremos para manipular esta variable que nos ayudara a medir y diferenciar los tiempos al momento de realizar una misma actividad"
   ]
  },
  {
   "cell_type": "code",
   "execution_count": 14,
   "id": "6a9b3a33-7cb7-4718-a461-bd6c82e4dbd0",
   "metadata": {},
   "outputs": [],
   "source": [
    "L1= range(SIZE) \n",
    "L2= range(SIZE)\n",
    "A1= np.arange(SIZE) \n",
    "A2= np.arange(SIZE)\n",
    "#print(L1)\n",
    "#print(A1)"
   ]
  },
  {
   "cell_type": "markdown",
   "id": "65c22674-1179-4fb7-9ed3-c2f9a0360319",
   "metadata": {},
   "source": [
    "* Vamos a verificar el tiempo que tarda en operar con PHYTON\n"
   ]
  },
  {
   "cell_type": "code",
   "execution_count": 15,
   "id": "584ea684-086b-46c6-b949-ffa565128278",
   "metadata": {},
   "outputs": [
    {
     "name": "stdout",
     "output_type": "stream",
     "text": [
      "122.21813201904297  Milisegundos\n"
     ]
    }
   ],
   "source": [
    "start= time.time()\n",
    "result=[(x + y) for x,y in zip(L1,L2)] # Revisar Comprehension\n",
    "print((time.time()-start)*1000, \" Milisegundos\")\n",
    "#print(result)"
   ]
  },
  {
   "cell_type": "markdown",
   "id": "054f003d-5022-4717-b44b-ec416a0c118f",
   "metadata": {},
   "source": [
    "* Ahora el tiempo que tarda con NumPy"
   ]
  },
  {
   "cell_type": "code",
   "execution_count": 16,
   "id": "f52b8bb9-4cf1-4a68-8f6d-4b7a3decea59",
   "metadata": {},
   "outputs": [
    {
     "name": "stdout",
     "output_type": "stream",
     "text": [
      "15.755176544189453  Milisegundos\n"
     ]
    }
   ],
   "source": [
    "start=time.time()\n",
    "result= A1+A2\n",
    "print((time.time()-start)*1000, \" Milisegundos\")\n",
    "#print(result)"
   ]
  },
  {
   "cell_type": "markdown",
   "id": "c2b6393b-4fed-47a8-95de-3c33bdc68531",
   "metadata": {},
   "source": [
    "#### Otros ejemplos de tiempo:"
   ]
  },
  {
   "cell_type": "code",
   "execution_count": 17,
   "id": "397bfe05-381e-4814-a93d-f75476c9058e",
   "metadata": {},
   "outputs": [
    {
     "name": "stdout",
     "output_type": "stream",
     "text": [
      "Lista 1 creado directamente   [0, 1, 2, 3, 4, 5, 6, 7, 8, 9]\n",
      "Lista 1 creado directamente   [0, 1, 2, 3, 4, 5, 6, 7, 8, 9]\n",
      "Tiempo que tardó:  0.16642  Milisegundos\n",
      "Resultado de la Operacion:  285\n"
     ]
    }
   ],
   "source": [
    "list1=[i for i in range (10)]\n",
    "list2=[i for i in range (10)]\n",
    "print(\"Lista 1 creado directamente  \", list1)\n",
    "print(\"Lista 1 creado directamente  \", list2)\n",
    "inicio = time.time()\n",
    "dot=0\n",
    "for i,j in zip (list1, list2):\n",
    "  dot+=i*j\n",
    "print(\"Tiempo que tardó: \", round(((time.time()-inicio) * 1000),5), \" Milisegundos\")\n",
    "print(\"Resultado de la Operacion: \", dot)"
   ]
  },
  {
   "cell_type": "code",
   "execution_count": 18,
   "id": "54c1e824-53cd-4433-9a3c-418a0ba0f3e8",
   "metadata": {},
   "outputs": [
    {
     "name": "stdout",
     "output_type": "stream",
     "text": [
      "Lista 1 creado directamente   [0 1 2 3 4 5 6 7 8 9]\n",
      "Lista 1 creado directamente   [0 1 2 3 4 5 6 7 8 9]\n",
      "Tiempo que tardó:  0.29039  Milisegundos\n",
      "Resultado de la Operacion:  285\n"
     ]
    }
   ],
   "source": [
    "import time\n",
    "import numpy as np\n",
    "arr1=np.array([i for i in range(10)])\n",
    "arr2=np.array([i for i in range(10)])\n",
    "print(\"Lista 1 creado directamente  \", arr1)\n",
    "print(\"Lista 1 creado directamente  \", arr2)\n",
    "inicio = time.time()\n",
    "arr=np.dot(arr1, arr2)\n",
    "round(time.time()-inicio,5)\n",
    "print(\"Tiempo que tardó: \", round(((time.time()-inicio) * 1000),5), \" Milisegundos\")\n",
    "print(\"Resultado de la Operacion: \", arr)"
   ]
  },
  {
   "cell_type": "markdown",
   "id": "481915b5-e4f3-4ec3-9664-ed4996127776",
   "metadata": {},
   "source": [
    "##### Concatenación de dos arreglos:\n"
   ]
  },
  {
   "cell_type": "code",
   "execution_count": 19,
   "id": "c25f2a2d-c6e1-49c9-b0a9-1f025b686b11",
   "metadata": {
    "scrolled": true
   },
   "outputs": [
    {
     "data": {
      "text/plain": [
       "0.0002"
      ]
     },
     "execution_count": 19,
     "metadata": {},
     "output_type": "execute_result"
    }
   ],
   "source": [
    "\n",
    " list1=[i for i in range (10000)]\n",
    " list2=[i for i in range (10000)]\n",
    " inicio = time.time()\n",
    " list1+=list2\n",
    " round(time.time()-inicio,5)"
   ]
  },
  {
   "cell_type": "code",
   "execution_count": 20,
   "id": "ec889a27-34c9-469e-93e0-661ea79d8b6c",
   "metadata": {},
   "outputs": [
    {
     "data": {
      "text/plain": [
       "0.00019"
      ]
     },
     "execution_count": 20,
     "metadata": {},
     "output_type": "execute_result"
    }
   ],
   "source": [
    " arr1=np.array([i for i in range(10000)])\n",
    " arr2=np.array([i for i in range(10000)])\n",
    " inicio = time.time()\n",
    " arr=np.concatenate((arr1,arr2),axis=0)\n",
    " round(time.time()-inicio,5)"
   ]
  },
  {
   "cell_type": "markdown",
   "id": "65e806fd-11e0-45b8-8f70-54fbb37f7db3",
   "metadata": {},
   "source": [
    "##### Eliminación:"
   ]
  },
  {
   "cell_type": "code",
   "execution_count": 21,
   "id": "bd8da593-4742-43dc-b6b1-5f921f747567",
   "metadata": {},
   "outputs": [
    {
     "data": {
      "text/plain": [
       "0.00023"
      ]
     },
     "execution_count": 21,
     "metadata": {},
     "output_type": "execute_result"
    }
   ],
   "source": [
    "\n",
    " list1=[i for i in range (10000)]\n",
    " inicio = time.time()\n",
    " del(list1)\n",
    " round(time.time()-inicio,5)"
   ]
  },
  {
   "cell_type": "code",
   "execution_count": 22,
   "id": "fbc935ba-f132-4228-b5c8-73c02225e586",
   "metadata": {},
   "outputs": [
    {
     "data": {
      "text/plain": [
       "9e-05"
      ]
     },
     "execution_count": 22,
     "metadata": {},
     "output_type": "execute_result"
    }
   ],
   "source": [
    " arr1=np.array([i for i in range(10000)])\n",
    " inicio = time.time()\n",
    " del(arr1)\n",
    " round(time.time()-inicio,5)"
   ]
  },
  {
   "cell_type": "markdown",
   "id": "23b2f36b-b94a-4010-9b93-357812110fca",
   "metadata": {},
   "source": [
    "## Ejercicios VECTOR"
   ]
  },
  {
   "cell_type": "markdown",
   "id": "eb4b6b55-4e04-493a-b795-4e6de421e078",
   "metadata": {},
   "source": [
    "* Al ser el elemento vector de numpy, nos permite realizar operaciones de forma simple\n"
   ]
  },
  {
   "cell_type": "code",
   "execution_count": 23,
   "id": "18eb14b3-34f1-4673-9e66-6beb7dfe6c85",
   "metadata": {},
   "outputs": [
    {
     "name": "stdout",
     "output_type": "stream",
     "text": [
      "[25 12 15 66 12]\n"
     ]
    }
   ],
   "source": [
    "lista=[25,12,15,66,12] \n",
    "vector=np.array(lista) \n",
    "print(vector)"
   ]
  },
  {
   "cell_type": "markdown",
   "id": "b35974ec-a545-46e9-8654-15505bd56760",
   "metadata": {},
   "source": [
    "*  Podemos acceder a sub elementos del vector:"
   ]
  },
  {
   "cell_type": "code",
   "execution_count": 24,
   "id": "0892af7f-f750-4374-8260-b87e7e77b6a8",
   "metadata": {},
   "outputs": [
    {
     "name": "stdout",
     "output_type": "stream",
     "text": [
      "66\n",
      "[12 15 66]\n",
      "[12 15 66 12]\n",
      "[25 12 15 66]\n",
      "[25 12 15 66 12]\n"
     ]
    }
   ],
   "source": [
    "print(vector[3])\n",
    "print(vector[1:4])\n",
    "print(vector[1:])\n",
    "print(vector[:4])\n",
    "print(vector[:])"
   ]
  },
  {
   "cell_type": "markdown",
   "id": "074e3fd0-549e-42b0-a78a-53bae3d6706a",
   "metadata": {},
   "source": [
    "* Vector original"
   ]
  },
  {
   "cell_type": "code",
   "execution_count": 25,
   "id": "3908a4cd-1b06-4c67-bbd5-ecbc5cb49c3f",
   "metadata": {},
   "outputs": [
    {
     "name": "stdout",
     "output_type": "stream",
     "text": [
      "[25 12 15 66 12]\n"
     ]
    }
   ],
   "source": [
    "print(vector)"
   ]
  },
  {
   "cell_type": "markdown",
   "id": "48d5304c-8fa5-4771-926c-9b0585ff7080",
   "metadata": {},
   "source": [
    "* Sumarle 1 a cada elemento del vector:"
   ]
  },
  {
   "cell_type": "code",
   "execution_count": 26,
   "id": "50f67731-31cd-4a9e-80d8-aa6776bacf09",
   "metadata": {},
   "outputs": [
    {
     "name": "stdout",
     "output_type": "stream",
     "text": [
      "[26 13 16 67 13]\n"
     ]
    }
   ],
   "source": [
    "print(vector+1)"
   ]
  },
  {
   "cell_type": "markdown",
   "id": "c3047b88-5f9d-4716-b472-0b262e7a3f6e",
   "metadata": {},
   "source": [
    "* Multiplicar por 5 cada elemento del vector:"
   ]
  },
  {
   "cell_type": "code",
   "execution_count": 27,
   "id": "fabeb307-5232-446d-9adf-a4577c582220",
   "metadata": {},
   "outputs": [
    {
     "name": "stdout",
     "output_type": "stream",
     "text": [
      "[125  60  75 330  60]\n"
     ]
    }
   ],
   "source": [
    "print(vector*5)"
   ]
  },
  {
   "cell_type": "markdown",
   "id": "ac458e48-f937-4169-9030-dd028acf673a",
   "metadata": {},
   "source": [
    "* Suma de los elementos:"
   ]
  },
  {
   "cell_type": "code",
   "execution_count": 28,
   "id": "a7d9e849-728b-4e46-b55f-23b492f2e677",
   "metadata": {},
   "outputs": [
    {
     "name": "stdout",
     "output_type": "stream",
     "text": [
      "130\n"
     ]
    }
   ],
   "source": [
    "print(np.sum(vector))"
   ]
  },
  {
   "cell_type": "markdown",
   "id": "ed2b4500-e421-4f97-875d-ed7ac725500e",
   "metadata": {},
   "source": [
    "* Promedio (media) de los elementos:"
   ]
  },
  {
   "cell_type": "code",
   "execution_count": 29,
   "id": "2c19ff43-0330-4469-ada0-3d50d5a82717",
   "metadata": {},
   "outputs": [
    {
     "name": "stdout",
     "output_type": "stream",
     "text": [
      "26.0\n"
     ]
    }
   ],
   "source": [
    "print(np.mean(vector)) "
   ]
  },
  {
   "cell_type": "markdown",
   "id": "ead13feb-ba9e-4b12-b66f-c2b37ba064ce",
   "metadata": {},
   "source": [
    "* El vector sumado a si mismo:"
   ]
  },
  {
   "cell_type": "code",
   "execution_count": 30,
   "id": "d54a5b2d-1583-4570-afd8-e70ba2f1fd2e",
   "metadata": {},
   "outputs": [
    {
     "name": "stdout",
     "output_type": "stream",
     "text": [
      "[ 50  24  30 132  24]\n"
     ]
    }
   ],
   "source": [
    "print(vector+vector)"
   ]
  },
  {
   "cell_type": "markdown",
   "id": "39f68127-58b3-45a9-80f9-912173689386",
   "metadata": {},
   "source": [
    "* Suma de vectores vector1 y vector2 (mismo tamaño):"
   ]
  },
  {
   "cell_type": "code",
   "execution_count": 31,
   "id": "e4f389f4-e339-443d-813f-0b1afc2d4560",
   "metadata": {},
   "outputs": [
    {
     "name": "stdout",
     "output_type": "stream",
     "text": [
      "[36 67 16 73  4]\n"
     ]
    }
   ],
   "source": [
    "vector2=np.array([11,55,1,7,-8])\n",
    "print(vector+vector2)"
   ]
  },
  {
   "cell_type": "markdown",
   "id": "47280927-1553-4bcd-8b7b-7a077272685c",
   "metadata": {},
   "source": [
    "### MATRICES"
   ]
  },
  {
   "cell_type": "markdown",
   "id": "50466210-2e45-4bd2-8cbe-42bdb40fa102",
   "metadata": {},
   "source": [
    "* Matriz creada con una lista de listas"
   ]
  },
  {
   "cell_type": "code",
   "execution_count": 32,
   "id": "cb544482-9806-49c0-9a95-69ffc33232e2",
   "metadata": {},
   "outputs": [
    {
     "name": "stdout",
     "output_type": "stream",
     "text": [
      "[[1, -4], [12, 3], [7, 5]]\n"
     ]
    }
   ],
   "source": [
    "lista_de_listas=[ [1  ,-4], \n",
    "[12 , 3], \n",
    "[7, 5]]\n",
    "print(lista_de_listas)"
   ]
  },
  {
   "cell_type": "markdown",
   "id": "91c43085-c222-4ec7-ab50-781a7ec1fd2a",
   "metadata": {},
   "source": [
    "* Misma Matriz aplicada NumPy"
   ]
  },
  {
   "cell_type": "code",
   "execution_count": 33,
   "id": "d3e2050e-ee07-4f19-b774-4645764a9684",
   "metadata": {},
   "outputs": [
    {
     "name": "stdout",
     "output_type": "stream",
     "text": [
      "[[ 1 -4]\n",
      " [12  3]\n",
      " [ 7  5]]\n"
     ]
    }
   ],
   "source": [
    " matriz = np.array(lista_de_listas)\n",
    " print(matriz)"
   ]
  },
  {
   "cell_type": "markdown",
   "id": "cfecc4f7-89fb-4622-953b-a65fd7354809",
   "metadata": {},
   "source": [
    "* Matriz creada con np.zeros:"
   ]
  },
  {
   "cell_type": "code",
   "execution_count": 34,
   "id": "37daaf2c-e402-437f-9600-325c010fa4f7",
   "metadata": {},
   "outputs": [
    {
     "name": "stdout",
     "output_type": "stream",
     "text": [
      "[[0. 0. 0.]\n",
      " [0. 0. 0.]]\n"
     ]
    }
   ],
   "source": [
    "dimensiones=(2,3)\n",
    "matriz_ceros= np.zeros(dimensiones)\n",
    "print(matriz_ceros)"
   ]
  },
  {
   "cell_type": "markdown",
   "id": "96e02f40-483d-4606-8e6b-c1a51a9a0554",
   "metadata": {},
   "source": [
    "* Matriz creada con np.ones:"
   ]
  },
  {
   "cell_type": "code",
   "execution_count": 35,
   "id": "805ce7fc-4a2a-43de-ac16-c158a6dfa65c",
   "metadata": {},
   "outputs": [
    {
     "name": "stdout",
     "output_type": "stream",
     "text": [
      "[[1. 1.]\n",
      " [1. 1.]\n",
      " [1. 1.]]\n"
     ]
    }
   ],
   "source": [
    "dimensiones=(3,2)\n",
    "matriz_unos= np.ones(dimensiones)\n",
    "print(matriz_unos)"
   ]
  },
  {
   "cell_type": "markdown",
   "id": "12277c98-201b-4053-be57-86f1f8a39df8",
   "metadata": {},
   "source": [
    "*  También podemos usar np.copypara copiar una matriz"
   ]
  },
  {
   "cell_type": "code",
   "execution_count": 36,
   "id": "eef4e0a5-ec13-4436-a1f7-4f4b37f8e6ce",
   "metadata": {},
   "outputs": [
    {
     "name": "stdout",
     "output_type": "stream",
     "text": [
      "-Copia de la matriz creada con np.ones:\n",
      "[[1. 1.]\n",
      " [1. 1.]\n",
      " [1. 1.]]\n"
     ]
    }
   ],
   "source": [
    "print(\"-Copia de la matriz creada con np.ones:\")\n",
    "matriz_unos_copia=np.copy(matriz_unos)\n",
    "print(matriz_unos_copia)"
   ]
  },
  {
   "cell_type": "markdown",
   "id": "0a993c00-7b8c-4551-9f03-836fc4b403a6",
   "metadata": {},
   "source": [
    "* Utilizar numeros randoms para crear una matriz"
   ]
  },
  {
   "cell_type": "code",
   "execution_count": 37,
   "id": "f4dc6873-527f-4f43-9c8b-8431a818bd80",
   "metadata": {},
   "outputs": [
    {
     "data": {
      "text/plain": [
       "array([[0.08565805, 0.5901395 , 0.09313438],\n",
       "       [0.69309203, 0.04280392, 0.19814275],\n",
       "       [0.90980114, 0.96078048, 0.17315172]])"
      ]
     },
     "execution_count": 37,
     "metadata": {},
     "output_type": "execute_result"
    }
   ],
   "source": [
    "np.random.rand(3,3)"
   ]
  },
  {
   "cell_type": "markdown",
   "id": "d77183ac-e90e-4c4f-972a-eb997ca9e256",
   "metadata": {},
   "source": [
    "#### Ejercicios Practicos"
   ]
  },
  {
   "cell_type": "markdown",
   "id": "b2d0c413-3e70-42a9-8be5-783a062c9c34",
   "metadata": {},
   "source": [
    "* Crear una matriz de 4x4 con valores de 0.5"
   ]
  },
  {
   "cell_type": "code",
   "execution_count": 38,
   "id": "f5644f78-73b7-4fbb-8615-a33dc506406f",
   "metadata": {},
   "outputs": [
    {
     "name": "stdout",
     "output_type": "stream",
     "text": [
      "[[0.5 0.5 0.5 0.5]\n",
      " [0.5 0.5 0.5 0.5]\n",
      " [0.5 0.5 0.5 0.5]\n",
      " [0.5 0.5 0.5 0.5]]\n"
     ]
    }
   ],
   "source": [
    "dim = (4,4)\n",
    "M1 = np.array(np.ones(dim))\n",
    "print(M1/2)"
   ]
  },
  {
   "cell_type": "markdown",
   "id": "936ef88d-69c3-4050-9eda-35cb9fb95db3",
   "metadata": {},
   "source": [
    "*  Crear una matriz de 5x5 con valores al azar"
   ]
  },
  {
   "cell_type": "code",
   "execution_count": 39,
   "id": "e7a7b1a9-09d5-43a6-a6d3-68515da53695",
   "metadata": {},
   "outputs": [
    {
     "name": "stdout",
     "output_type": "stream",
     "text": [
      "[[87 75 31 87 81]\n",
      " [35  2 47 29 33]\n",
      " [61 45 35 89 83]\n",
      " [73 44 49 98 79]\n",
      " [85 24 87 78 55]]\n"
     ]
    }
   ],
   "source": [
    "import random\n",
    "matriz_azar = np.random.randint(1, 101, size=(5, 5))\n",
    "print(matriz_azar)"
   ]
  },
  {
   "cell_type": "markdown",
   "id": "5adb5400-574a-4b6f-9973-58e6a8008329",
   "metadata": {},
   "source": [
    "* Crear un vector con valores dentro del rango 10 a 49"
   ]
  },
  {
   "cell_type": "code",
   "execution_count": 40,
   "id": "9574c042-b4ab-4928-b093-9648cd5b79ad",
   "metadata": {},
   "outputs": [
    {
     "name": "stdout",
     "output_type": "stream",
     "text": [
      "[10 11 12 13 14 15 16 17 18 19 20 21 22 23 24 25 26 27 28 29 30 31 32 33\n",
      " 34 35 36 37 38 39 40 41 42 43 44 45 46 47 48 49]\n"
     ]
    }
   ],
   "source": [
    "a = np.arange(10,50)\n",
    "print(a)"
   ]
  },
  {
   "cell_type": "markdown",
   "id": "e7265cdc-9174-4501-ba7c-8f965e264533",
   "metadata": {},
   "source": [
    "* Invertir el vector"
   ]
  },
  {
   "cell_type": "code",
   "execution_count": null,
   "id": "854b06a0-b7bb-48cc-811b-cef4ebf0dcfb",
   "metadata": {},
   "outputs": [
    {
     "name": "stdout",
     "output_type": "stream",
     "text": [
      "[49 48 47 46 45 44 43 42 41 40 39 38 37 36 35 34 33 32 31 30 29 28 27 26\n",
      " 25 24 23 22 21 20 19 18 17 16 15 14 13 12 11 10]\n"
     ]
    }
   ],
   "source": [
    "print(a[::-2])\n"
   ]
  },
  {
   "cell_type": "code",
   "execution_count": null,
   "id": "6bb31a48-76cf-4a65-9e9d-70f3902edbbc",
   "metadata": {},
   "outputs": [],
   "source": []
  }
 ],
 "metadata": {
  "kernelspec": {
   "display_name": "Python 3 (ipykernel)",
   "language": "python",
   "name": "python3"
  },
  "language_info": {
   "codemirror_mode": {
    "name": "ipython",
    "version": 3
   },
   "file_extension": ".py",
   "mimetype": "text/x-python",
   "name": "python",
   "nbconvert_exporter": "python",
   "pygments_lexer": "ipython3",
   "version": "3.14.0"
  }
 },
 "nbformat": 4,
 "nbformat_minor": 5
}
