{
 "cells": [
  {
   "cell_type": "code",
   "execution_count": 2,
   "id": "b99fb4a8-fbba-45ae-b39c-6ea1a49e2930",
   "metadata": {},
   "outputs": [
    {
     "name": "stdout",
     "output_type": "stream",
     "text": [
      "[[ 1  2  3]\n",
      " [ 7  8  9]\n",
      " [13 14 15]\n",
      " [19 20 21]]\n"
     ]
    }
   ],
   "source": [
    "import numpy as np\n",
    "b=np.array([(1,2,3),(7,8,9),(13,14,15),(19,20,21)])\n",
    "print(b)"
   ]
  },
  {
   "cell_type": "code",
   "execution_count": 11,
   "id": "0c153cb8-81b2-46dc-9afe-eb64d9d8e802",
   "metadata": {},
   "outputs": [
    {
     "name": "stdout",
     "output_type": "stream",
     "text": [
      "48000\n",
      "8000\n"
     ]
    }
   ],
   "source": [
    "import sys\n",
    "S=range(1000)\n",
    "print(sys.getsizeof(S)*len(S))\n",
    "\n",
    "D=np.arange(1000)\n",
    "print(D.size*D.itemsize)\n",
    "\n",
    "import time\n",
    "SIZE= 1000000\n",
    "L1=range(SIZE)\n",
    "L2=range(SIZE)\n",
    "A1=np.arange(SIZE)\n",
    "A2=np.arange(SIZE)\n"
   ]
  },
  {
   "cell_type": "code",
   "execution_count": 16,
   "id": "8dd8505d-9512-442a-a464-9f9d9797e6d6",
   "metadata": {},
   "outputs": [
    {
     "name": "stdout",
     "output_type": "stream",
     "text": [
      "128.4654140472412\n",
      "30.619382858276367\n"
     ]
    }
   ],
   "source": [
    "start=time.time()\n",
    "result=[(x,y) for x, y in zip(L1,L2)]\n",
    "print((time.time()-start)*1000)\n",
    "\n",
    "start=time.time()\n",
    "result=A1+A2\n",
    "print((time.time()-start)*1000)"
   ]
  },
  {
   "cell_type": "code",
   "execution_count": 17,
   "id": "618a599c-4439-4c1a-8ba0-7aadfc61f72c",
   "metadata": {},
   "outputs": [],
   "source": [
    "import time "
   ]
  },
  {
   "cell_type": "code",
   "execution_count": 18,
   "id": "aefc124b-9d5b-482a-ac8c-1e0ed72f1fb5",
   "metadata": {},
   "outputs": [],
   "source": [
    "import numpy as np"
   ]
  },
  {
   "cell_type": "code",
   "execution_count": 19,
   "id": "9f0e932c-ebac-49eb-8d3a-c9bf11d801b8",
   "metadata": {},
   "outputs": [],
   "source": [
    "list1=[i for i in range(10000)]"
   ]
  },
  {
   "cell_type": "code",
   "execution_count": 20,
   "id": "b37a4e5e-6d8d-457a-a8d6-2446ec46d218",
   "metadata": {},
   "outputs": [],
   "source": [
    "list2=[i for i in range(10000)]"
   ]
  },
  {
   "cell_type": "code",
   "execution_count": 21,
   "id": "28aeeafe-9e4d-4cf4-b3ea-00d663c7ab92",
   "metadata": {},
   "outputs": [],
   "source": [
    "inicio=time.time()\n"
   ]
  },
  {
   "cell_type": "code",
   "execution_count": 22,
   "id": "313977b9-9aac-4c6c-ae26-9c7fa886b477",
   "metadata": {},
   "outputs": [],
   "source": [
    "dot=0"
   ]
  },
  {
   "cell_type": "code",
   "execution_count": 23,
   "id": "408dcb08-77d0-4645-b175-a2923f48c5cd",
   "metadata": {},
   "outputs": [],
   "source": [
    "for i,j in zip(list1, list2):\n",
    "    dot+=i*j"
   ]
  },
  {
   "cell_type": "code",
   "execution_count": 24,
   "id": "c553e02e-a724-4eac-9783-04a613308e9c",
   "metadata": {},
   "outputs": [
    {
     "data": {
      "text/plain": [
       "1.11198"
      ]
     },
     "execution_count": 24,
     "metadata": {},
     "output_type": "execute_result"
    }
   ],
   "source": [
    "round(time.time()-inicio,5)\n"
   ]
  },
  {
   "cell_type": "code",
   "execution_count": null,
   "id": "ac2d9081-afea-4f01-8773-961e309ae21f",
   "metadata": {},
   "outputs": [],
   "source": [
    "import time"
   ]
  },
  {
   "cell_type": "code",
   "execution_count": null,
   "id": "64f764fd-f628-4634-9e1a-7f76e35e3605",
   "metadata": {},
   "outputs": [],
   "source": [
    "import numpy as np"
   ]
  },
  {
   "cell_type": "code",
   "execution_count": 27,
   "id": "6c41859d-c601-4a0e-8cad-5ade8adef7d0",
   "metadata": {},
   "outputs": [],
   "source": [
    "arr1=np.array([i for i in range(10000)])\n",
    "              "
   ]
  },
  {
   "cell_type": "code",
   "execution_count": 38,
   "id": "9dfd501c-c10b-410f-8971-5bbdc5dac989",
   "metadata": {},
   "outputs": [],
   "source": [
    "arr2=np.array([i for i in range(10000)])\n"
   ]
  },
  {
   "cell_type": "code",
   "execution_count": 39,
   "id": "4b014c05-2c88-4424-9402-007966cb8dba",
   "metadata": {},
   "outputs": [],
   "source": [
    "inicio=time.time()\n"
   ]
  },
  {
   "cell_type": "code",
   "execution_count": 40,
   "id": "857bb5a8-7f2e-4ec9-b43c-0d61dceffc24",
   "metadata": {},
   "outputs": [],
   "source": [
    "arr=np.concatenate((arr1,arr2),axis=0)\n"
   ]
  },
  {
   "cell_type": "code",
   "execution_count": 41,
   "id": "8fa0a71d-3680-40dc-8d3a-8353f019abe0",
   "metadata": {},
   "outputs": [
    {
     "data": {
      "text/plain": [
       "27.04791"
      ]
     },
     "execution_count": 41,
     "metadata": {},
     "output_type": "execute_result"
    }
   ],
   "source": [
    "round(time.time()-inicio,5)"
   ]
  },
  {
   "cell_type": "code",
   "execution_count": 47,
   "id": "54e434f2-9ae3-4ec3-8fe2-e92c21e3e6fd",
   "metadata": {},
   "outputs": [
    {
     "name": "stdout",
     "output_type": "stream",
     "text": [
      "[25.  12.  15.  66.  12.5]\n"
     ]
    }
   ],
   "source": [
    "lista=[25,12,15,66,12.5]\n",
    "vector=np.array(lista)\n",
    "print(vector)"
   ]
  },
  {
   "cell_type": "raw",
   "id": "13b933fa-1685-43a2-80fd-681e47da7107",
   "metadata": {},
   "source": [
    "print(vector[3])"
   ]
  },
  {
   "cell_type": "raw",
   "id": "abfcf166-644e-4942-91fa-77dbef153dcf",
   "metadata": {},
   "source": [
    "print(vector[1:4])"
   ]
  },
  {
   "cell_type": "code",
   "execution_count": 48,
   "id": "b38e5166-4bb6-4027-8dcf-36d1a716f702",
   "metadata": {},
   "outputs": [
    {
     "name": "stdout",
     "output_type": "stream",
     "text": [
      "[12.  15.  66.  12.5]\n"
     ]
    }
   ],
   "source": [
    "print(vector[1:])\n"
   ]
  },
  {
   "cell_type": "code",
   "execution_count": 49,
   "id": "a60c1e7d-ee72-4e95-9e30-f3ad3f6691a5",
   "metadata": {},
   "outputs": [
    {
     "name": "stdout",
     "output_type": "stream",
     "text": [
      "[25. 12. 15. 66.]\n"
     ]
    }
   ],
   "source": [
    "print(vector[:4])\n"
   ]
  },
  {
   "cell_type": "raw",
   "id": "b4247e8b-9df4-444f-b46e-01439b3c912b",
   "metadata": {},
   "source": [
    "print(vector[:])"
   ]
  },
  {
   "cell_type": "code",
   "execution_count": 50,
   "id": "63bb1eab-ff87-4ec5-9f15-bf4350c064d4",
   "metadata": {},
   "outputs": [
    {
     "name": "stdout",
     "output_type": "stream",
     "text": [
      "-vector original\n"
     ]
    }
   ],
   "source": [
    "print(\"-vector original\")\n"
   ]
  },
  {
   "cell_type": "code",
   "execution_count": 51,
   "id": "0661efbe-df34-4132-9564-3afb19788e88",
   "metadata": {},
   "outputs": [
    {
     "name": "stdout",
     "output_type": "stream",
     "text": [
      "[25.  12.  15.  66.  12.5]\n"
     ]
    }
   ],
   "source": [
    "print(vector)"
   ]
  },
  {
   "cell_type": "code",
   "execution_count": 53,
   "id": "cdba06af-0ff8-41e9-832f-66b68836fd4d",
   "metadata": {},
   "outputs": [
    {
     "name": "stdout",
     "output_type": "stream",
     "text": [
      "-sumarle 1 a cada elemento del vector\n",
      "[26.  13.  16.  67.  13.5]\n"
     ]
    }
   ],
   "source": [
    "print(\"-sumarle 1 a cada elemento del vector\")\n",
    "print(vector +1)"
   ]
  },
  {
   "cell_type": "code",
   "execution_count": 54,
   "id": "63a71285-0641-45e6-9f7b-b507601ed68a",
   "metadata": {},
   "outputs": [
    {
     "name": "stdout",
     "output_type": "stream",
     "text": [
      "- multiplicar por 5 cada elemento del vector\n",
      "[125.   60.   75.  330.   62.5]\n"
     ]
    }
   ],
   "source": [
    "print(\"- multiplicar por 5 cada elemento del vector\")\n",
    "print(vector*5)"
   ]
  },
  {
   "cell_type": "code",
   "execution_count": 55,
   "id": "8fcd10f7-b82d-4418-9c87-a25f06891b42",
   "metadata": {},
   "outputs": [
    {
     "name": "stdout",
     "output_type": "stream",
     "text": [
      "-suma de los elementos\n",
      "26.1\n"
     ]
    }
   ],
   "source": [
    "print(\"-suma de los elementos\")\n",
    "print(np.mean(vector))"
   ]
  },
  {
   "cell_type": "code",
   "execution_count": 56,
   "id": "07b009bb-6598-491f-a56d-5ef1d9942ff5",
   "metadata": {},
   "outputs": [
    {
     "name": "stdout",
     "output_type": "stream",
     "text": [
      "- el vector sumado a si mismo\n"
     ]
    }
   ],
   "source": [
    "print(\"- el vector sumado a si mismo\")"
   ]
  },
  {
   "cell_type": "code",
   "execution_count": 57,
   "id": "c73839d5-86c5-4ccf-88e6-8fca6f3530ac",
   "metadata": {},
   "outputs": [
    {
     "name": "stdout",
     "output_type": "stream",
     "text": [
      "[ 50.  24.  30. 132.  25.]\n"
     ]
    }
   ],
   "source": [
    "print(vector+vector)"
   ]
  },
  {
   "cell_type": "code",
   "execution_count": 58,
   "id": "a53398e0-0408-4339-8b74-d92ccd5d7ad1",
   "metadata": {},
   "outputs": [
    {
     "name": "stdout",
     "output_type": "stream",
     "text": [
      "Suma de vectores vector1 y vector2(mismo tamaño)\n",
      "[36.  67.  16.2 73.6  4.5]\n"
     ]
    }
   ],
   "source": [
    "print(\"Suma de vectores vector1 y vector2(mismo tamaño)\")\n",
    "vector2=np.array([11,55,1.2,7.6,-8])\n",
    "print(vector+vector2)\n"
   ]
  },
  {
   "cell_type": "code",
   "execution_count": 59,
   "id": "5c2bdd21-565c-4d0a-a1db-15624fa79955",
   "metadata": {},
   "outputs": [
    {
     "name": "stdout",
     "output_type": "stream",
     "text": [
      "- Matriz creada con una lista de listas\n"
     ]
    }
   ],
   "source": [
    "print(\"- Matriz creada con una lista de listas\")\n",
    "lista_de_listas=[[1,-4],[12,3],[7.2,5]]\n"
   ]
  },
  {
   "cell_type": "code",
   "execution_count": 60,
   "id": "156a0aa4-b2b7-4520-bf1f-0877ee899365",
   "metadata": {},
   "outputs": [
    {
     "name": "stdout",
     "output_type": "stream",
     "text": [
      "[[ 1.  -4. ]\n",
      " [12.   3. ]\n",
      " [ 7.2  5. ]]\n"
     ]
    }
   ],
   "source": [
    "matriz=np.array(lista_de_listas)\n",
    "print(matriz)\n"
   ]
  },
  {
   "cell_type": "code",
   "execution_count": 61,
   "id": "a8031f58-8e0c-4d98-b4a2-e4b1fdf61a6f",
   "metadata": {},
   "outputs": [
    {
     "name": "stdout",
     "output_type": "stream",
     "text": [
      "- Matriz creada con np.zeros\n",
      "[[0. 0. 0.]\n",
      " [0. 0. 0.]]\n"
     ]
    }
   ],
   "source": [
    "print(\"- Matriz creada con np.zeros\")\n",
    "dimensiones=(2,3)\n",
    "matriz_ceros=np.zeros(dimensiones)\n",
    "print(matriz_ceros)"
   ]
  },
  {
   "cell_type": "code",
   "execution_count": 62,
   "id": "02fe201c-1284-443d-b913-d82063ee02c2",
   "metadata": {},
   "outputs": [
    {
     "name": "stdout",
     "output_type": "stream",
     "text": [
      "- Matriz creada con np.ones\n",
      "[[1. 1.]\n",
      " [1. 1.]\n",
      " [1. 1.]]\n"
     ]
    }
   ],
   "source": [
    "print(\"- Matriz creada con np.ones\")\n",
    "dimensiones=(3,2)\n",
    "matriz_unos=np.ones(dimensiones)\n",
    "print(matriz_unos)"
   ]
  },
  {
   "cell_type": "code",
   "execution_count": 63,
   "id": "70135bf4-c229-4e8c-907e-77ba26b5a699",
   "metadata": {},
   "outputs": [
    {
     "name": "stdout",
     "output_type": "stream",
     "text": [
      "- Copia de la matriz crwada con np ones\n",
      "[[1. 1.]\n",
      " [1. 1.]\n",
      " [1. 1.]]\n"
     ]
    }
   ],
   "source": [
    "print(\"- Copia de la matriz crwada con np ones\")\n",
    "matriz_unos_copia=np.copy(matriz_unos)\n",
    "print(matriz_unos_copia)\n",
    "      "
   ]
  },
  {
   "cell_type": "code",
   "execution_count": 70,
   "id": "3f39585b-e52a-403f-9572-518337047425",
   "metadata": {},
   "outputs": [],
   "source": [
    "#ejercicio\n",
    "#Una clase de 20 estudiantes rindió un examen sobre 20 puntos. Se tienen las notas almacenadas en un arreglo de NumPy.\n",
    "#1. Genera un arreglo de 20 notas aleatorias entre 0 y 20.\n",
    "#2. Calcula:\n",
    "#• La nota promedio.\n",
    "#• La nota más alta y la más baja.\n",
    "#• Cuántos estudiantes aprobaron (nota ≥ 14).\n",
    "#3. Ordena las notas de menor a mayor.\n",
    "#4. Escala las notas para que estén en rango de 0 a 10."
   ]
  },
  {
   "cell_type": "code",
   "execution_count": 88,
   "id": "6c08d80a-55e5-4e58-9b3a-a5ee328c2d55",
   "metadata": {},
   "outputs": [],
   "source": [
    "#Generar las calificaciones\n",
    "notas=np.random.randint(0,21,300)"
   ]
  },
  {
   "cell_type": "code",
   "execution_count": 89,
   "id": "3b131d7c-72cc-49cb-b490-ebaf6f7e2684",
   "metadata": {},
   "outputs": [
    {
     "data": {
      "text/plain": [
       "array([ 1,  0, 20, 19,  7, 10,  4, 12,  3,  3, 14, 14,  8, 16, 18,  6,  6,\n",
       "       13, 17, 10, 20,  8,  0, 11, 17, 18, 19,  0,  7,  4, 20,  1,  0,  5,\n",
       "       10,  9, 10, 11,  0, 12, 17, 16,  5, 14,  8, 16,  9, 19,  4,  2,  0,\n",
       "       11, 10, 20, 13, 12, 20,  3,  9,  1,  9,  2,  3, 12,  8,  4, 15,  2,\n",
       "       13, 20,  6, 10, 13,  7,  3, 14,  5, 20,  5, 14, 16, 14, 13, 14, 19,\n",
       "       17,  2,  4, 12, 14,  7,  1,  4,  7,  1, 11,  3,  7,  5, 20, 17, 15,\n",
       "       11,  7, 16,  5, 19, 16,  5,  3, 20, 15,  9, 13, 15,  9, 12,  6,  8,\n",
       "       12, 10, 18, 16,  9, 13,  5,  6, 16,  1, 14,  6,  3, 14, 14,  6,  4,\n",
       "       11,  2,  8, 12,  5, 17, 11,  0,  7, 14, 14,  6,  2, 18, 10,  3,  6,\n",
       "        0,  0, 10,  1,  1,  2,  8,  5,  3,  4, 17, 15,  2, 17,  9, 18, 15,\n",
       "       16,  9,  2, 15,  3,  0,  7, 19,  8,  8, 11, 14, 17,  5, 14,  0, 10,\n",
       "       18,  8,  2, 17, 12,  8, 18,  0, 18,  8, 17,  8, 20,  8, 10, 17, 11,\n",
       "        0,  2, 11, 19,  3,  7,  1, 16,  2, 14,  3,  5,  5, 11, 19, 13,  0,\n",
       "        7, 19, 13, 19,  2, 13, 13, 13,  2,  6, 14, 11, 13, 17, 11,  4,  2,\n",
       "        7, 11,  0,  4,  2, 18,  3, 17,  0, 15, 10, 20, 14, 13, 11, 11,  9,\n",
       "        9, 14, 19, 10, 19, 17,  6,  5, 14,  9,  5, 12,  8, 20, 16,  0, 16,\n",
       "       14,  7,  4, 10, 12,  5,  2, 15,  2, 11,  2, 19,  4, 11,  3, 10,  2,\n",
       "        5, 16, 19, 12, 10, 18,  2,  5,  8, 18,  3], dtype=int32)"
      ]
     },
     "execution_count": 89,
     "metadata": {},
     "output_type": "execute_result"
    }
   ],
   "source": [
    "notas"
   ]
  },
  {
   "cell_type": "code",
   "execution_count": 90,
   "id": "57e3823f-a1ab-4027-821a-6cb55ae3b67c",
   "metadata": {},
   "outputs": [],
   "source": [
    "#Estadisticos"
   ]
  },
  {
   "cell_type": "code",
   "execution_count": 91,
   "id": "73a66517-addb-49bb-ae8d-4af14a7fa6b1",
   "metadata": {},
   "outputs": [
    {
     "name": "stdout",
     "output_type": "stream",
     "text": [
      "Promedio\n"
     ]
    },
    {
     "data": {
      "text/plain": [
       "np.float64(9.7)"
      ]
     },
     "execution_count": 91,
     "metadata": {},
     "output_type": "execute_result"
    }
   ],
   "source": [
    "print(\"Promedio\")\n",
    "np.mean(notas)"
   ]
  },
  {
   "cell_type": "code",
   "execution_count": 92,
   "id": "f52e313a-5b51-4680-b74f-f1258fe42ef5",
   "metadata": {},
   "outputs": [
    {
     "name": "stdout",
     "output_type": "stream",
     "text": [
      "Nota mas alta\n"
     ]
    },
    {
     "data": {
      "text/plain": [
       "np.int32(20)"
      ]
     },
     "execution_count": 92,
     "metadata": {},
     "output_type": "execute_result"
    }
   ],
   "source": [
    "print(\"Nota mas alta\")\n",
    "np.max(notas)"
   ]
  },
  {
   "cell_type": "code",
   "execution_count": 93,
   "id": "2e9e7ab6-b109-4518-84d9-3236bb474469",
   "metadata": {},
   "outputs": [
    {
     "name": "stdout",
     "output_type": "stream",
     "text": [
      "Nota mas baja\n"
     ]
    },
    {
     "data": {
      "text/plain": [
       "np.int32(0)"
      ]
     },
     "execution_count": 93,
     "metadata": {},
     "output_type": "execute_result"
    }
   ],
   "source": [
    "print(\"Nota mas baja\")\n",
    "np.min(notas)"
   ]
  },
  {
   "cell_type": "code",
   "execution_count": 94,
   "id": "ae4cc1a4-a160-4ba2-b86b-014a7ce2d7a2",
   "metadata": {},
   "outputs": [
    {
     "name": "stdout",
     "output_type": "stream",
     "text": [
      "Aprobados\n"
     ]
    },
    {
     "data": {
      "text/plain": [
       "np.int64(95)"
      ]
     },
     "execution_count": 94,
     "metadata": {},
     "output_type": "execute_result"
    }
   ],
   "source": [
    "print(\"Aprobados\")\n",
    "np.sum(notas>=14)"
   ]
  },
  {
   "cell_type": "code",
   "execution_count": 95,
   "id": "e44335bd-ee77-4fff-b771-926547f30089",
   "metadata": {},
   "outputs": [],
   "source": [
    "#calificaciones ordenadas"
   ]
  },
  {
   "cell_type": "code",
   "execution_count": 96,
   "id": "dfb23154-acbb-40d6-9e0f-f8968cebf03e",
   "metadata": {},
   "outputs": [],
   "source": [
    "notas_ordenadas=np.sort(notas)"
   ]
  },
  {
   "cell_type": "code",
   "execution_count": 97,
   "id": "0f516eab-2e0d-4dca-b746-6e558270c300",
   "metadata": {},
   "outputs": [
    {
     "data": {
      "text/plain": [
       "array([ 0,  0,  0,  0,  0,  0,  0,  0,  0,  0,  0,  0,  0,  0,  0,  0,  0,\n",
       "        1,  1,  1,  1,  1,  1,  1,  1,  1,  2,  2,  2,  2,  2,  2,  2,  2,\n",
       "        2,  2,  2,  2,  2,  2,  2,  2,  2,  2,  2,  2,  2,  3,  3,  3,  3,\n",
       "        3,  3,  3,  3,  3,  3,  3,  3,  3,  3,  3,  3,  4,  4,  4,  4,  4,\n",
       "        4,  4,  4,  4,  4,  4,  4,  5,  5,  5,  5,  5,  5,  5,  5,  5,  5,\n",
       "        5,  5,  5,  5,  5,  5,  5,  5,  6,  6,  6,  6,  6,  6,  6,  6,  6,\n",
       "        6,  6,  7,  7,  7,  7,  7,  7,  7,  7,  7,  7,  7,  7,  7,  8,  8,\n",
       "        8,  8,  8,  8,  8,  8,  8,  8,  8,  8,  8,  8,  8,  8,  9,  9,  9,\n",
       "        9,  9,  9,  9,  9,  9,  9,  9,  9, 10, 10, 10, 10, 10, 10, 10, 10,\n",
       "       10, 10, 10, 10, 10, 10, 10, 10, 11, 11, 11, 11, 11, 11, 11, 11, 11,\n",
       "       11, 11, 11, 11, 11, 11, 11, 11, 11, 12, 12, 12, 12, 12, 12, 12, 12,\n",
       "       12, 12, 12, 12, 13, 13, 13, 13, 13, 13, 13, 13, 13, 13, 13, 13, 13,\n",
       "       13, 14, 14, 14, 14, 14, 14, 14, 14, 14, 14, 14, 14, 14, 14, 14, 14,\n",
       "       14, 14, 14, 14, 14, 15, 15, 15, 15, 15, 15, 15, 15, 15, 16, 16, 16,\n",
       "       16, 16, 16, 16, 16, 16, 16, 16, 16, 16, 17, 17, 17, 17, 17, 17, 17,\n",
       "       17, 17, 17, 17, 17, 17, 17, 17, 18, 18, 18, 18, 18, 18, 18, 18, 18,\n",
       "       18, 18, 19, 19, 19, 19, 19, 19, 19, 19, 19, 19, 19, 19, 19, 19, 20,\n",
       "       20, 20, 20, 20, 20, 20, 20, 20, 20, 20, 20], dtype=int32)"
      ]
     },
     "execution_count": 97,
     "metadata": {},
     "output_type": "execute_result"
    }
   ],
   "source": [
    "notas_ordenadas"
   ]
  },
  {
   "cell_type": "code",
   "execution_count": 98,
   "id": "ee4ed59f-e037-4847-acd9-72339f384740",
   "metadata": {},
   "outputs": [],
   "source": [
    "#en escala de 0 a 10"
   ]
  },
  {
   "cell_type": "code",
   "execution_count": 99,
   "id": "e7d4d062-35f1-4da8-8f44-9ae4595477e9",
   "metadata": {},
   "outputs": [],
   "source": [
    "notas_escala=(notas/20)*10"
   ]
  },
  {
   "cell_type": "code",
   "execution_count": 100,
   "id": "752e0015-5bb0-478c-9ab9-3238c7406917",
   "metadata": {},
   "outputs": [
    {
     "data": {
      "text/plain": [
       "array([ 0.5,  0. , 10. ,  9.5,  3.5,  5. ,  2. ,  6. ,  1.5,  1.5,  7. ,\n",
       "        7. ,  4. ,  8. ,  9. ,  3. ,  3. ,  6.5,  8.5,  5. , 10. ,  4. ,\n",
       "        0. ,  5.5,  8.5,  9. ,  9.5,  0. ,  3.5,  2. , 10. ,  0.5,  0. ,\n",
       "        2.5,  5. ,  4.5,  5. ,  5.5,  0. ,  6. ,  8.5,  8. ,  2.5,  7. ,\n",
       "        4. ,  8. ,  4.5,  9.5,  2. ,  1. ,  0. ,  5.5,  5. , 10. ,  6.5,\n",
       "        6. , 10. ,  1.5,  4.5,  0.5,  4.5,  1. ,  1.5,  6. ,  4. ,  2. ,\n",
       "        7.5,  1. ,  6.5, 10. ,  3. ,  5. ,  6.5,  3.5,  1.5,  7. ,  2.5,\n",
       "       10. ,  2.5,  7. ,  8. ,  7. ,  6.5,  7. ,  9.5,  8.5,  1. ,  2. ,\n",
       "        6. ,  7. ,  3.5,  0.5,  2. ,  3.5,  0.5,  5.5,  1.5,  3.5,  2.5,\n",
       "       10. ,  8.5,  7.5,  5.5,  3.5,  8. ,  2.5,  9.5,  8. ,  2.5,  1.5,\n",
       "       10. ,  7.5,  4.5,  6.5,  7.5,  4.5,  6. ,  3. ,  4. ,  6. ,  5. ,\n",
       "        9. ,  8. ,  4.5,  6.5,  2.5,  3. ,  8. ,  0.5,  7. ,  3. ,  1.5,\n",
       "        7. ,  7. ,  3. ,  2. ,  5.5,  1. ,  4. ,  6. ,  2.5,  8.5,  5.5,\n",
       "        0. ,  3.5,  7. ,  7. ,  3. ,  1. ,  9. ,  5. ,  1.5,  3. ,  0. ,\n",
       "        0. ,  5. ,  0.5,  0.5,  1. ,  4. ,  2.5,  1.5,  2. ,  8.5,  7.5,\n",
       "        1. ,  8.5,  4.5,  9. ,  7.5,  8. ,  4.5,  1. ,  7.5,  1.5,  0. ,\n",
       "        3.5,  9.5,  4. ,  4. ,  5.5,  7. ,  8.5,  2.5,  7. ,  0. ,  5. ,\n",
       "        9. ,  4. ,  1. ,  8.5,  6. ,  4. ,  9. ,  0. ,  9. ,  4. ,  8.5,\n",
       "        4. , 10. ,  4. ,  5. ,  8.5,  5.5,  0. ,  1. ,  5.5,  9.5,  1.5,\n",
       "        3.5,  0.5,  8. ,  1. ,  7. ,  1.5,  2.5,  2.5,  5.5,  9.5,  6.5,\n",
       "        0. ,  3.5,  9.5,  6.5,  9.5,  1. ,  6.5,  6.5,  6.5,  1. ,  3. ,\n",
       "        7. ,  5.5,  6.5,  8.5,  5.5,  2. ,  1. ,  3.5,  5.5,  0. ,  2. ,\n",
       "        1. ,  9. ,  1.5,  8.5,  0. ,  7.5,  5. , 10. ,  7. ,  6.5,  5.5,\n",
       "        5.5,  4.5,  4.5,  7. ,  9.5,  5. ,  9.5,  8.5,  3. ,  2.5,  7. ,\n",
       "        4.5,  2.5,  6. ,  4. , 10. ,  8. ,  0. ,  8. ,  7. ,  3.5,  2. ,\n",
       "        5. ,  6. ,  2.5,  1. ,  7.5,  1. ,  5.5,  1. ,  9.5,  2. ,  5.5,\n",
       "        1.5,  5. ,  1. ,  2.5,  8. ,  9.5,  6. ,  5. ,  9. ,  1. ,  2.5,\n",
       "        4. ,  9. ,  1.5])"
      ]
     },
     "execution_count": 100,
     "metadata": {},
     "output_type": "execute_result"
    }
   ],
   "source": [
    "notas_escala"
   ]
  },
  {
   "cell_type": "code",
   "execution_count": 101,
   "id": "4198c66f-1450-4976-ada1-6923c8e708eb",
   "metadata": {},
   "outputs": [
    {
     "data": {
      "text/plain": [
       "array([[0.25857776, 0.02355986],\n",
       "       [0.62306555, 0.4258248 ],\n",
       "       [0.21073662, 0.97473654]])"
      ]
     },
     "execution_count": 101,
     "metadata": {},
     "output_type": "execute_result"
    }
   ],
   "source": [
    "np.random.rand(3,2)"
   ]
  },
  {
   "cell_type": "code",
   "execution_count": 102,
   "id": "a9a7768c-dc58-40aa-bc0a-aa4262ecd5d4",
   "metadata": {},
   "outputs": [
    {
     "data": {
      "text/plain": [
       "array([[0.60647504, 0.6201595 , 0.79540722, 0.89689649, 0.79551793,\n",
       "        0.48341826, 0.36926414, 0.16164896, 0.74353862, 0.95089185],\n",
       "       [0.21861191, 0.32363239, 0.33578776, 0.716578  , 0.86111151,\n",
       "        0.58734582, 0.73626272, 0.10656258, 0.62982856, 0.94496171],\n",
       "       [0.4880706 , 0.38121122, 0.46974825, 0.27109025, 0.85042185,\n",
       "        0.03091821, 0.94897455, 0.36817721, 0.73924043, 0.43490938],\n",
       "       [0.01161752, 0.0063619 , 0.6568296 , 0.25606344, 0.10184991,\n",
       "        0.27039578, 0.25233844, 0.70690793, 0.8609787 , 0.55449753],\n",
       "       [0.33149857, 0.00651662, 0.55309432, 0.76671439, 0.20737464,\n",
       "        0.44708102, 0.3795529 , 0.54544012, 0.22503547, 0.36366572],\n",
       "       [0.36896917, 0.89097981, 0.02912012, 0.5774695 , 0.85417427,\n",
       "        0.31673711, 0.71945847, 0.6172245 , 0.93838654, 0.03294556],\n",
       "       [0.76023888, 0.45803675, 0.5648906 , 0.8826986 , 0.17303924,\n",
       "        0.85170384, 0.67203606, 0.93866857, 0.57394711, 0.36779928],\n",
       "       [0.497485  , 0.32267887, 0.44699627, 0.5717299 , 0.80660678,\n",
       "        0.9402864 , 0.64541183, 0.46782314, 0.37279977, 0.69393709],\n",
       "       [0.29474853, 0.43900042, 0.86494771, 0.96185191, 0.95687984,\n",
       "        0.15664088, 0.06938863, 0.47025071, 0.01316664, 0.27534875],\n",
       "       [0.04442926, 0.22119508, 0.95661256, 0.78494386, 0.58356093,\n",
       "        0.9537977 , 0.57566613, 0.41580626, 0.35922292, 0.91585066]])"
      ]
     },
     "execution_count": 102,
     "metadata": {},
     "output_type": "execute_result"
    }
   ],
   "source": [
    "np.random.rand(10,10)"
   ]
  },
  {
   "cell_type": "code",
   "execution_count": null,
   "id": "3bbfac51-4bd2-4f8f-994c-23010edbb14c",
   "metadata": {},
   "outputs": [],
   "source": [
    "#Crear un vector con valores dentro del rango 10 a 49\n",
    "a=np"
   ]
  }
 ],
 "metadata": {
  "kernelspec": {
   "display_name": "Python 3 (ipykernel)",
   "language": "python",
   "name": "python3"
  },
  "language_info": {
   "codemirror_mode": {
    "name": "ipython",
    "version": 3
   },
   "file_extension": ".py",
   "mimetype": "text/x-python",
   "name": "python",
   "nbconvert_exporter": "python",
   "pygments_lexer": "ipython3",
   "version": "3.13.7"
  }
 },
 "nbformat": 4,
 "nbformat_minor": 5
}
