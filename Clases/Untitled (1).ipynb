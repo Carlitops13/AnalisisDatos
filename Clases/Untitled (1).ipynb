{
 "cells": [
  {
   "cell_type": "code",
   "execution_count": 1,
   "id": "9d79422e-1d9c-4f5c-b9a4-e4f6171a0a21",
   "metadata": {},
   "outputs": [
    {
     "name": "stdout",
     "output_type": "stream",
     "text": [
      "Requirement already satisfied: numpy in c:\\users\\analisis de datos\\appdata\\local\\programs\\python\\python313\\lib\\site-packages (2.3.3)\n",
      "Note: you may need to restart the kernel to use updated packages.\n"
     ]
    }
   ],
   "source": [
    "pip install numpy"
   ]
  },
  {
   "cell_type": "code",
   "execution_count": 18,
   "id": "e46d2b84-b09e-4fb0-b00d-8477899fcd43",
   "metadata": {},
   "outputs": [],
   "source": [
    "import numpy as np"
   ]
  },
  {
   "cell_type": "code",
   "execution_count": 19,
   "id": "1b00bbfb-cded-42ef-ab48-c38142bc6453",
   "metadata": {},
   "outputs": [],
   "source": [
    "a = np.array([([1,2,3],[7,8,9],[13,14,15], [19,20,21])])"
   ]
  },
  {
   "cell_type": "code",
   "execution_count": 20,
   "id": "2b7ee16d-d5f4-42a1-9bc7-fbd2b8d9b2af",
   "metadata": {},
   "outputs": [
    {
     "name": "stdout",
     "output_type": "stream",
     "text": [
      "[[[ 1  2  3]\n",
      "  [ 7  8  9]\n",
      "  [13 14 15]\n",
      "  [19 20 21]]]\n"
     ]
    }
   ],
   "source": [
    "print(a)"
   ]
  },
  {
   "cell_type": "code",
   "execution_count": 21,
   "id": "11bf474d-0d32-4e33-91b5-db857891d063",
   "metadata": {},
   "outputs": [],
   "source": [
    "import sys"
   ]
  },
  {
   "cell_type": "code",
   "execution_count": 22,
   "id": "d901ee80-848c-416c-80bf-e6e220c38570",
   "metadata": {},
   "outputs": [
    {
     "name": "stdout",
     "output_type": "stream",
     "text": [
      "48000\n"
     ]
    }
   ],
   "source": [
    "s = range(1000)\n",
    "print(sys.getsizeof(s) * len(s))"
   ]
  },
  {
   "cell_type": "code",
   "execution_count": 25,
   "id": "9b77f133-e772-4287-85b9-32887c8a24ad",
   "metadata": {
    "scrolled": true
   },
   "outputs": [
    {
     "name": "stdout",
     "output_type": "stream",
     "text": [
      "8000\n"
     ]
    }
   ],
   "source": [
    "d = np.arange(1000)\n",
    "print(d.size*d.itemsize)"
   ]
  },
  {
   "cell_type": "code",
   "execution_count": 26,
   "id": "eb01d347-53a1-4130-b07e-435829e27e08",
   "metadata": {},
   "outputs": [],
   "source": [
    "import time"
   ]
  },
  {
   "cell_type": "code",
   "execution_count": 27,
   "id": "05ade46e-20aa-4456-960d-15286e49a473",
   "metadata": {},
   "outputs": [],
   "source": [
    "SIZE = 1000000"
   ]
  },
  {
   "cell_type": "code",
   "execution_count": 28,
   "id": "41c7b690-0c1a-4c65-a8c8-05375cca8ca9",
   "metadata": {},
   "outputs": [],
   "source": [
    "L1 = range(SIZE)"
   ]
  },
  {
   "cell_type": "code",
   "execution_count": 37,
   "id": "a07474b1-c75f-4892-a82a-124880a43b3d",
   "metadata": {},
   "outputs": [],
   "source": [
    "L2 = range(SIZE)"
   ]
  },
  {
   "cell_type": "code",
   "execution_count": 38,
   "id": "406d5d54-20c0-4cec-9e51-651447c89861",
   "metadata": {},
   "outputs": [],
   "source": [
    "A1 = np.arange(SIZE)"
   ]
  },
  {
   "cell_type": "code",
   "execution_count": 39,
   "id": "7143bbd3-2e9a-403b-8d35-ed306d2f654e",
   "metadata": {},
   "outputs": [],
   "source": [
    "A2 = np.arange(SIZE)"
   ]
  },
  {
   "cell_type": "code",
   "execution_count": 40,
   "id": "90efa82a-ef70-49b7-9281-8f0107614f73",
   "metadata": {},
   "outputs": [
    {
     "name": "stdout",
     "output_type": "stream",
     "text": [
      "149.69468116760254\n"
     ]
    }
   ],
   "source": [
    "start = time.time()\n",
    "result = [(x,y) for x,y in zip (L1,L2)]\n",
    "print((time.time() - start ) * 1000)"
   ]
  },
  {
   "cell_type": "code",
   "execution_count": 49,
   "id": "14877383-6ae2-4f7f-94ec-02310c3aaeee",
   "metadata": {},
   "outputs": [
    {
     "name": "stdout",
     "output_type": "stream",
     "text": [
      "3.587961196899414\n"
     ]
    }
   ],
   "source": [
    "start = time.time()\n",
    "result = A1 + A2\n",
    "print((time.time() - start ) * 1000)"
   ]
  },
  {
   "cell_type": "code",
   "execution_count": 50,
   "id": "15a9a294-9fd4-4210-9b0a-799a1b5f24cd",
   "metadata": {},
   "outputs": [],
   "source": [
    "list1 = [i for i in range(1000)]"
   ]
  },
  {
   "cell_type": "code",
   "execution_count": 51,
   "id": "9094e5b1-aec4-4461-8c89-60dc98394c94",
   "metadata": {},
   "outputs": [],
   "source": [
    "list2 = [i for i in range(1000)] "
   ]
  },
  {
   "cell_type": "code",
   "execution_count": 52,
   "id": "384cde9d-39d6-4bb2-b04e-9554fcb61e07",
   "metadata": {},
   "outputs": [],
   "source": [
    "inicio = time.time()"
   ]
  },
  {
   "cell_type": "code",
   "execution_count": 53,
   "id": "4887b357-dd9c-4785-910c-192fdc7c6c1e",
   "metadata": {},
   "outputs": [],
   "source": [
    "dot = 0"
   ]
  },
  {
   "cell_type": "code",
   "execution_count": 55,
   "id": "3b53ffcc-ae4d-4367-b767-4222cf7340d8",
   "metadata": {},
   "outputs": [
    {
     "data": {
      "text/plain": [
       "14.11578"
      ]
     },
     "execution_count": 55,
     "metadata": {},
     "output_type": "execute_result"
    }
   ],
   "source": [
    "for i,j in zip (list1, list2):\n",
    "    dot += i*j\n",
    "round(time.time() - inicio,5)"
   ]
  },
  {
   "cell_type": "code",
   "execution_count": 57,
   "id": "8e355be5-4215-455d-9e7b-f2b755885d81",
   "metadata": {},
   "outputs": [],
   "source": [
    "arr1 = np.array([i for i in range(1000)])"
   ]
  },
  {
   "cell_type": "code",
   "execution_count": 62,
   "id": "2d086784-92ab-4827-a78f-0ae8c439d99e",
   "metadata": {},
   "outputs": [],
   "source": [
    "arr2 = np.array([i for i in range(1000)])"
   ]
  },
  {
   "cell_type": "code",
   "execution_count": 63,
   "id": "e81bd538-6e08-48ea-8401-dde721e0ad1d",
   "metadata": {},
   "outputs": [],
   "source": [
    "inicio = time.time()"
   ]
  },
  {
   "cell_type": "code",
   "execution_count": 64,
   "id": "fe2a4484-2702-4df8-b0b1-f6a6f255be8e",
   "metadata": {},
   "outputs": [],
   "source": [
    "arr = np.dot(arr1,arr2)"
   ]
  },
  {
   "cell_type": "code",
   "execution_count": 65,
   "id": "2ce49440-522f-4afd-aa4a-d0650a44f9db",
   "metadata": {},
   "outputs": [
    {
     "data": {
      "text/plain": [
       "8.45431"
      ]
     },
     "execution_count": 65,
     "metadata": {},
     "output_type": "execute_result"
    }
   ],
   "source": [
    "round(time.time() - inicio,5)"
   ]
  },
  {
   "cell_type": "code",
   "execution_count": 66,
   "id": "3a4aa60f-1a90-46d9-bf59-80f2406fe2d8",
   "metadata": {},
   "outputs": [],
   "source": [
    "arr = np.concatenate((arr1,arr2), axis = 0)"
   ]
  },
  {
   "cell_type": "code",
   "execution_count": 67,
   "id": "2253e4f6-526f-4a99-a533-3b436bbe6dbe",
   "metadata": {},
   "outputs": [
    {
     "data": {
      "text/plain": [
       "157.03822"
      ]
     },
     "execution_count": 67,
     "metadata": {},
     "output_type": "execute_result"
    }
   ],
   "source": [
    "round(time.time() - inicio,5)"
   ]
  },
  {
   "cell_type": "code",
   "execution_count": 70,
   "id": "b24fb304-2689-4dc7-8f1f-4d40f2168325",
   "metadata": {},
   "outputs": [],
   "source": [
    "inicio = time.time()"
   ]
  },
  {
   "cell_type": "code",
   "execution_count": 71,
   "id": "6c9448a3-40bd-4df9-95d9-58df5c885dd5",
   "metadata": {},
   "outputs": [],
   "source": [
    "list1 += list2"
   ]
  },
  {
   "cell_type": "code",
   "execution_count": 72,
   "id": "60546349-6d16-4a4b-816c-3fd2ddc23800",
   "metadata": {},
   "outputs": [
    {
     "data": {
      "text/plain": [
       "0.63002"
      ]
     },
     "execution_count": 72,
     "metadata": {},
     "output_type": "execute_result"
    }
   ],
   "source": [
    "round(time.time() - inicio,5)"
   ]
  },
  {
   "cell_type": "code",
   "execution_count": 73,
   "id": "d21c3919-2eee-4687-bfdd-cf74d85a44e7",
   "metadata": {},
   "outputs": [],
   "source": [
    "a = np.arange(10,50)"
   ]
  },
  {
   "cell_type": "code",
   "execution_count": 74,
   "id": "e0ce63a3-7306-40d5-ba06-475be076d28f",
   "metadata": {},
   "outputs": [
    {
     "data": {
      "text/plain": [
       "array([49, 48, 47, 46, 45, 44, 43, 42, 41, 40, 39, 38, 37, 36, 35, 34, 33,\n",
       "       32, 31, 30, 29, 28, 27, 26, 25, 24, 23, 22, 21, 20, 19, 18, 17, 16,\n",
       "       15, 14, 13, 12, 11, 10])"
      ]
     },
     "execution_count": 74,
     "metadata": {},
     "output_type": "execute_result"
    }
   ],
   "source": [
    "a[::-1]"
   ]
  },
  {
   "cell_type": "code",
   "execution_count": 75,
   "id": "458a0dce-dc66-4329-8f61-d3bc3c764643",
   "metadata": {},
   "outputs": [],
   "source": [
    "#Crear un vectpr dentro del rango 10 a 49\n",
    "a = np.arange(10,50)"
   ]
  },
  {
   "cell_type": "code",
   "execution_count": 76,
   "id": "cd5a12c1-ca7c-46ca-8422-a3a2f4c3bfe6",
   "metadata": {},
   "outputs": [
    {
     "data": {
      "text/plain": [
       "array([49, 48, 47, 46, 45, 44, 43, 42, 41, 40, 39, 38, 37, 36, 35, 34, 33,\n",
       "       32, 31, 30, 29, 28, 27, 26, 25, 24, 23, 22, 21, 20, 19, 18, 17, 16,\n",
       "       15, 14, 13, 12, 11, 10])"
      ]
     },
     "execution_count": 76,
     "metadata": {},
     "output_type": "execute_result"
    }
   ],
   "source": [
    "a[::-1]"
   ]
  },
  {
   "cell_type": "code",
   "execution_count": 77,
   "id": "35a82149-2401-4adc-b231-4c50e2bc216f",
   "metadata": {},
   "outputs": [
    {
     "data": {
      "text/plain": [
       "array([[0, 1, 2],\n",
       "       [3, 4, 5],\n",
       "       [6, 7, 8]])"
      ]
     },
     "execution_count": 77,
     "metadata": {},
     "output_type": "execute_result"
    }
   ],
   "source": [
    "np.arange(0,9).reshape(3,3)"
   ]
  },
  {
   "cell_type": "code",
   "execution_count": 78,
   "id": "c5bfeb0b-ad8a-4e47-ae26-50104f7696f0",
   "metadata": {},
   "outputs": [
    {
     "data": {
      "text/plain": [
       "array([[1., 0., 0., 0., 0., 0.],\n",
       "       [0., 1., 0., 0., 0., 0.],\n",
       "       [0., 0., 1., 0., 0., 0.],\n",
       "       [0., 0., 0., 1., 0., 0.],\n",
       "       [0., 0., 0., 0., 1., 0.],\n",
       "       [0., 0., 0., 0., 0., 1.]])"
      ]
     },
     "execution_count": 78,
     "metadata": {},
     "output_type": "execute_result"
    }
   ],
   "source": [
    "np.identity(6)"
   ]
  },
  {
   "cell_type": "code",
   "execution_count": 79,
   "id": "d8446145-9649-4583-9f8b-4700913d4525",
   "metadata": {},
   "outputs": [],
   "source": [
    "r= np.random.random((3,3,3))"
   ]
  },
  {
   "cell_type": "code",
   "execution_count": 80,
   "id": "ee0903fc-5a55-4f34-84ea-bcdc6d4f61dd",
   "metadata": {},
   "outputs": [
    {
     "data": {
      "text/plain": [
       "array([[[0.2859417 , 0.76532375, 0.43730606],\n",
       "        [0.17625666, 0.83506242, 0.07819927],\n",
       "        [0.59318558, 0.37320634, 0.61847079]],\n",
       "\n",
       "       [[0.06934794, 0.06227804, 0.45167613],\n",
       "        [0.6327248 , 0.37973195, 0.44592022],\n",
       "        [0.7024074 , 0.9476408 , 0.26836147]],\n",
       "\n",
       "       [[0.90523792, 0.02864427, 0.48987948],\n",
       "        [0.90908291, 0.1032582 , 0.1318976 ],\n",
       "        [0.34913109, 0.20774424, 0.7794485 ]]])"
      ]
     },
     "execution_count": 80,
     "metadata": {},
     "output_type": "execute_result"
    }
   ],
   "source": [
    "r"
   ]
  },
  {
   "cell_type": "code",
   "execution_count": 81,
   "id": "70a71863-d2b8-4d28-96ac-a5c9d3e278f5",
   "metadata": {},
   "outputs": [
    {
     "name": "stdout",
     "output_type": "stream",
     "text": [
      "16\n",
      "0.9476407954074229\n"
     ]
    }
   ],
   "source": [
    "print(r.argmax())\n",
    "print(r.ravel()[r.argmax()])"
   ]
  },
  {
   "cell_type": "code",
   "execution_count": 82,
   "id": "398b168a-056c-40b3-88fe-c042b98c6dcd",
   "metadata": {},
   "outputs": [
    {
     "name": "stdout",
     "output_type": "stream",
     "text": [
      "[[[0.2859417  0.76532375 0.43730606]\n",
      "  [0.17625666 0.83506242 0.07819927]\n",
      "  [0.59318558 0.37320634 0.61847079]]\n",
      "\n",
      " [[0.06934794 0.06227804 0.45167613]\n",
      "  [0.6327248  0.37973195 0.44592022]\n",
      "  [0.7024074  0.9476408  0.26836147]]\n",
      "\n",
      " [[0.90523792 0.02864427 0.48987948]\n",
      "  [0.90908291 0.1032582  0.1318976 ]\n",
      "  [0.34913109 0.20774424 0.7794485 ]]]\n"
     ]
    }
   ],
   "source": [
    "print(r)"
   ]
  },
  {
   "cell_type": "code",
   "execution_count": 83,
   "id": "b78e1840-fe96-4a88-99c1-0a69ffc455b2",
   "metadata": {},
   "outputs": [
    {
     "name": "stdout",
     "output_type": "stream",
     "text": [
      "(np.int64(1), np.int64(2), np.int64(1))\n"
     ]
    },
    {
     "data": {
      "text/plain": [
       "np.float64(0.9476407954074229)"
      ]
     },
     "execution_count": 83,
     "metadata": {},
     "output_type": "execute_result"
    }
   ],
   "source": [
    "print(np.unravel_index(r.argmax(),r.shape))\n",
    "r[np.unravel_index(r.argmax(), r.shape)]"
   ]
  },
  {
   "cell_type": "code",
   "execution_count": null,
   "id": "9ec04cc1-6d2b-41f3-9d4a-a794b2aec066",
   "metadata": {},
   "outputs": [],
   "source": [
    "#Crear matriz de 10 * 10"
   ]
  }
 ],
 "metadata": {
  "kernelspec": {
   "display_name": "Python 3 (ipykernel)",
   "language": "python",
   "name": "python3"
  },
  "language_info": {
   "codemirror_mode": {
    "name": "ipython",
    "version": 3
   },
   "file_extension": ".py",
   "mimetype": "text/x-python",
   "name": "python",
   "nbconvert_exporter": "python",
   "pygments_lexer": "ipython3",
   "version": "3.13.7"
  }
 },
 "nbformat": 4,
 "nbformat_minor": 5
}
